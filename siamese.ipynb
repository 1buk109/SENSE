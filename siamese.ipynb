{
 "cells": [
  {
   "cell_type": "code",
   "execution_count": 1,
   "metadata": {
    "ExecuteTime": {
     "end_time": "2017-12-28T00:14:27.716377Z",
     "start_time": "2017-12-28T00:14:27.193111Z"
    },
    "collapsed": true
   },
   "outputs": [],
   "source": [
    "%matplotlib inline\n",
    "from torch.utils.data import DataLoader,Dataset\n",
    "import matplotlib.pyplot as plt\n",
    "import pandas as pd\n",
    "import numpy as np\n",
    "import os\n",
    "import time\n",
    "import random\n",
    "import torch\n",
    "from torch.autograd import Variable   \n",
    "import torch.nn as nn\n",
    "from torch import optim\n",
    "import torch.nn.functional as F\n",
    "from itertools import islice\n",
    "from torch.utils.data import DataLoader,Dataset"
   ]
  },
  {
   "cell_type": "code",
   "execution_count": 2,
   "metadata": {
    "ExecuteTime": {
     "end_time": "2017-12-28T00:14:30.362283Z",
     "start_time": "2017-12-28T00:14:27.718293Z"
    },
    "collapsed": false
   },
   "outputs": [
    {
     "name": "stdout",
     "output_type": "stream",
     "text": [
      "False\n"
     ]
    }
   ],
   "source": [
    "CUDA_FLAG = torch.cuda.is_available()\n",
    "print(CUDA_FLAG)"
   ]
  },
  {
   "cell_type": "code",
   "execution_count": 3,
   "metadata": {
    "ExecuteTime": {
     "end_time": "2017-12-28T00:14:30.389778Z",
     "start_time": "2017-12-28T00:14:30.364617Z"
    },
    "collapsed": false
   },
   "outputs": [],
   "source": [
    "SEED = 1\n",
    "torch.manual_seed(SEED)\n",
    "if CUDA_FLAG:\n",
    "    torch.cuda.manual_seed(SEED)\n",
    "\n",
    "SEQ_LEN = 465\n",
    "EMBEDDING_LEN = 120\n",
    "NUM_TRAINING_PAIRS = 20 * 500\n",
    "NUM_TESTING_N = 500 # number of training pairs is N*(N-1)/2\n",
    "NUM_EPOCH = 10\n",
    "LEARNING_RATE = 1e-4\n",
    "BATCH_SIZE = 100\n",
    "\n",
    "class Config():\n",
    "    train_data_fp = './demo/pair_shuffle.fa'\n",
    "    train_target_fp = './demo/dist_shuffle.txt'\n",
    "    test_data_fp = './demo/eval_pair.fa'\n",
    "    test_target_fp = './demo/eval_dist.txt'\n",
    "    train_num_example = NUM_TRAINING_PAIRS\n",
    "    train_batch_size = BATCH_SIZE\n",
    "    num_epoch = NUM_EPOCH\n",
    "    learning_rate =LEARNING_RATE"
   ]
  },
  {
   "cell_type": "code",
   "execution_count": 4,
   "metadata": {
    "ExecuteTime": {
     "end_time": "2017-12-28T00:14:30.471322Z",
     "start_time": "2017-12-28T00:14:30.391872Z"
    },
    "collapsed": true
   },
   "outputs": [],
   "source": [
    "class MaxMinout(nn.Module):\n",
    "    def __init__(self):\n",
    "        super().__init__()\n",
    "\n",
    "    def forward(self, embedding1, embedding2):\n",
    "        shape = list(embedding1.size())\n",
    "        flat1 = embedding1.view(1, -1)\n",
    "        flat2 = embedding2.view(1, -1)\n",
    "        combined = torch.cat((flat1, flat2), 0)\n",
    "        maxout = combined.max(0)[0].view(*shape)\n",
    "        # minout = combined.min(0)[0].view(*shape)\n",
    "        minout = ((combined * -1).max(0)[0].view(*shape) * -1) # workaround for memory leak bug\n",
    "\n",
    "        return maxout, minout\n",
    "\n",
    "class SiameseNetwork(nn.Module):\n",
    "    def __init__(self):\n",
    "        super().__init__()\n",
    "        self.maxminout = MaxMinout()\n",
    "        self.cnn = nn.Sequential(\n",
    "            nn.Conv1d(4, 16, kernel_size=5, padding=2),\n",
    "            nn.MaxPool1d(2),\n",
    "            nn.ReLU(),\n",
    "                \n",
    "            nn.Conv1d(16, 32, kernel_size=5, padding=2),\n",
    "            nn.MaxPool1d(2),\n",
    "            nn.ReLU(),\n",
    "               \n",
    "            nn.Conv1d(32, 48, kernel_size=5, padding=2),\n",
    "            nn.MaxPool1d(2),\n",
    "            nn.ReLU(),\n",
    "        )\n",
    "        max_pooling_len = SEQ_LEN \n",
    "        max_pooling_len = np.floor((max_pooling_len - 2) / 2 + 1)\n",
    "        max_pooling_len = np.floor((max_pooling_len - 2) / 2 + 1)\n",
    "        max_pooling_len = np.floor((max_pooling_len - 2) / 2 + 1)\n",
    "        self.fc = nn.Sequential(\n",
    "            nn.Linear(int(48 * max_pooling_len), EMBEDDING_LEN),\n",
    "        )\n",
    "\n",
    "    def forward_one_side(self, x):\n",
    "        output = self.cnn(x)\n",
    "        output = output.view(output.size()[0], -1)\n",
    "        output = self.fc(output)\n",
    "        return output\n",
    "\n",
    "    def forward(self, input1, input2):\n",
    "        embedding1 = self.forward_one_side(input1)\n",
    "        embedding2 = self.forward_one_side(input2)\n",
    "        maxout, minout = self.maxminout(embedding1, embedding2)\n",
    "        return maxout, minout"
   ]
  },
  {
   "cell_type": "code",
   "execution_count": 5,
   "metadata": {
    "ExecuteTime": {
     "end_time": "2017-12-28T00:14:30.485665Z",
     "start_time": "2017-12-28T00:14:30.473034Z"
    },
    "collapsed": true
   },
   "outputs": [],
   "source": [
    "def weight_func(dist):\n",
    "    return 1.0\n",
    "#     return 50.0 if dist < 0.2 else 1.0\n",
    "\n",
    "class ContrastiveLoss(torch.nn.Module):\n",
    "    def __init__(self):\n",
    "        super().__init__()\n",
    "        \n",
    "    def forward(self, maxout, minout, align_dist):\n",
    "        weight = Variable(torch.FloatTensor([weight_func(x) for x in align_dist.data]), requires_grad=False)\n",
    "        if CUDA_FLAG:\n",
    "            weight = weight.cuda()\n",
    "        loss_contrastive = torch.mean(torch.mul(weight, torch.pow(1 - minout.sum(1)/maxout.sum(1) - align_dist, 2)))\n",
    "\n",
    "        return loss_contrastive"
   ]
  },
  {
   "cell_type": "code",
   "execution_count": 6,
   "metadata": {
    "ExecuteTime": {
     "end_time": "2017-12-28T00:14:30.564345Z",
     "start_time": "2017-12-28T00:14:30.487411Z"
    },
    "collapsed": true
   },
   "outputs": [],
   "source": [
    "atcg_map = {'A': 0, 'T': 1, 'C': 2, 'G': 3}\n",
    "\n",
    "class SiameseNetworkDataset(Dataset):\n",
    "    def __init__(self, data_fp, target_fp, N):\n",
    "        self.data_fp = data_fp\n",
    "        self.target_fp = target_fp\n",
    "        self.N = N\n",
    "        self.data_tensor = self.gen_data_tensor()\n",
    "        self.target_tensor = self.gen_target_tensor()\n",
    "        \n",
    "    def __getitem__(self, index):\n",
    "        return self.data_tensor[0][index], self.data_tensor[1][index], self.target_tensor[index]\n",
    "\n",
    "    def __len__(self):\n",
    "        return self.N\n",
    "    \n",
    "    def gen_data_tensor(self):\n",
    "        seq1 = torch.zeros((self.N, 4, SEQ_LEN))\n",
    "        seq2 = torch.zeros((self.N, 4, SEQ_LEN))\n",
    "        cnt = 0\n",
    "        with open(self.data_fp) as f:\n",
    "            while True:\n",
    "                next_n = list(islice(f, 4))\n",
    "                if not next_n:\n",
    "                    break\n",
    "                if cnt >= self.N:\n",
    "                    break\n",
    "                read1 = next_n[1].strip()\n",
    "                read2 = next_n[3].strip()\n",
    "                for i, c in enumerate(read1):\n",
    "                    seq1[cnt, atcg_map.get(c, 0), i] = 1.0\n",
    "                for i, c in enumerate(read2):\n",
    "                    seq2[cnt, atcg_map.get(c, 0), i] = 1.0\n",
    "                cnt += 1\n",
    "        return seq1, seq2\n",
    "\n",
    "    def gen_target_tensor(self):\n",
    "        target = torch.zeros(self.N)\n",
    "        with open(self.target_fp) as f:\n",
    "            for i, line in enumerate(f):\n",
    "                if i >= self.N:\n",
    "                    break\n",
    "                pair_id, dist = line.strip().split()\n",
    "                target[i] = float(dist)\n",
    "        return target"
   ]
  },
  {
   "cell_type": "code",
   "execution_count": 7,
   "metadata": {
    "ExecuteTime": {
     "end_time": "2017-12-28T00:16:46.806114Z",
     "start_time": "2017-12-28T00:14:30.566261Z"
    },
    "collapsed": false,
    "scrolled": false
   },
   "outputs": [
    {
     "name": "stdout",
     "output_type": "stream",
     "text": [
      "SiameseNetwork (\n",
      "  (maxminout): MaxMinout (\n",
      "  )\n",
      "  (cnn): Sequential (\n",
      "    (0): Conv1d(4, 16, kernel_size=(5,), stride=(1,), padding=(2,))\n",
      "    (1): MaxPool1d (size=2, stride=2, padding=0, dilation=1, ceil_mode=False)\n",
      "    (2): ReLU ()\n",
      "    (3): Conv1d(16, 32, kernel_size=(5,), stride=(1,), padding=(2,))\n",
      "    (4): MaxPool1d (size=2, stride=2, padding=0, dilation=1, ceil_mode=False)\n",
      "    (5): ReLU ()\n",
      "    (6): Conv1d(32, 48, kernel_size=(5,), stride=(1,), padding=(2,))\n",
      "    (7): MaxPool1d (size=2, stride=2, padding=0, dilation=1, ceil_mode=False)\n",
      "    (8): ReLU ()\n",
      "  )\n",
      "  (fc): Sequential (\n",
      "    (0): Linear (2784 -> 120)\n",
      "  )\n",
      ")\n"
     ]
    }
   ],
   "source": [
    "net = SiameseNetwork()    \n",
    "if CUDA_FLAG:\n",
    "    net.cuda()\n",
    "criterion = ContrastiveLoss()\n",
    "optimizer = optim.Adam(net.parameters(), lr=Config.learning_rate, weight_decay=0)\n",
    "print(net)\n",
    "\n",
    "training_dataset = SiameseNetworkDataset(Config.train_data_fp, \n",
    "                                         Config.train_target_fp,\n",
    "                                         Config.train_num_example)\n",
    "\n",
    "training_loader = DataLoader(\n",
    "    dataset=training_dataset,      \n",
    "    batch_size=Config.train_batch_size,      \n",
    "    shuffle=True,              \n",
    "    num_workers=4,              \n",
    ")"
   ]
  },
  {
   "cell_type": "code",
   "execution_count": 8,
   "metadata": {
    "ExecuteTime": {
     "end_time": "2017-12-28T00:33:54.826874Z",
     "start_time": "2017-12-28T00:16:47.998046Z"
    },
    "collapsed": false,
    "scrolled": false
   },
   "outputs": [
    {
     "name": "stdout",
     "output_type": "stream",
     "text": [
      "===========>\n",
      "Epoch: 1/10, Batch: 10/100\n",
      "Accumulated loss: 5.8757e-02\n",
      "Epoch: 1/10, Batch: 20/100\n",
      "Accumulated loss: 3.5184e-02\n",
      "Epoch: 1/10, Batch: 30/100\n",
      "Accumulated loss: 2.7760e-02\n",
      "Epoch: 1/10, Batch: 40/100\n",
      "Accumulated loss: 2.3952e-02\n",
      "Epoch: 1/10, Batch: 50/100\n",
      "Accumulated loss: 2.1381e-02\n",
      "Epoch: 1/10, Batch: 60/100\n",
      "Accumulated loss: 1.9412e-02\n",
      "Epoch: 1/10, Batch: 70/100\n",
      "Accumulated loss: 1.7765e-02\n",
      "Epoch: 1/10, Batch: 80/100\n",
      "Accumulated loss: 1.6184e-02\n",
      "Epoch: 1/10, Batch: 90/100\n",
      "Accumulated loss: 1.4682e-02\n",
      "Epoch: 1/10, Batch: 100/100\n",
      "Accumulated loss: 1.3358e-02\n",
      "Train loss: 1.3358e-02\n",
      "===========>\n",
      "Epoch: 2/10, Batch: 10/100\n",
      "Accumulated loss: 1.0848e-03\n",
      "Epoch: 2/10, Batch: 20/100\n",
      "Accumulated loss: 9.7107e-04\n",
      "Epoch: 2/10, Batch: 30/100\n",
      "Accumulated loss: 8.8675e-04\n",
      "Epoch: 2/10, Batch: 40/100\n",
      "Accumulated loss: 8.1630e-04\n",
      "Epoch: 2/10, Batch: 50/100\n",
      "Accumulated loss: 7.5556e-04\n",
      "Epoch: 2/10, Batch: 60/100\n",
      "Accumulated loss: 6.9376e-04\n",
      "Epoch: 2/10, Batch: 70/100\n",
      "Accumulated loss: 6.4624e-04\n",
      "Epoch: 2/10, Batch: 80/100\n",
      "Accumulated loss: 6.0928e-04\n",
      "Epoch: 2/10, Batch: 90/100\n",
      "Accumulated loss: 5.7125e-04\n",
      "Epoch: 2/10, Batch: 100/100\n",
      "Accumulated loss: 5.4330e-04\n",
      "Train loss: 5.4330e-04\n",
      "===========>\n",
      "Epoch: 3/10, Batch: 10/100\n",
      "Accumulated loss: 2.2286e-04\n",
      "Epoch: 3/10, Batch: 20/100\n",
      "Accumulated loss: 2.4274e-04\n",
      "Epoch: 3/10, Batch: 30/100\n",
      "Accumulated loss: 2.3525e-04\n",
      "Epoch: 3/10, Batch: 40/100\n",
      "Accumulated loss: 2.2125e-04\n",
      "Epoch: 3/10, Batch: 50/100\n",
      "Accumulated loss: 2.1663e-04\n",
      "Epoch: 3/10, Batch: 60/100\n",
      "Accumulated loss: 2.1392e-04\n",
      "Epoch: 3/10, Batch: 70/100\n",
      "Accumulated loss: 2.0364e-04\n",
      "Epoch: 3/10, Batch: 80/100\n",
      "Accumulated loss: 1.9885e-04\n",
      "Epoch: 3/10, Batch: 90/100\n",
      "Accumulated loss: 1.9231e-04\n",
      "Epoch: 3/10, Batch: 100/100\n",
      "Accumulated loss: 1.8731e-04\n",
      "Train loss: 1.8731e-04\n",
      "===========>\n",
      "Epoch: 4/10, Batch: 10/100\n",
      "Accumulated loss: 1.4363e-04\n",
      "Epoch: 4/10, Batch: 20/100\n",
      "Accumulated loss: 1.3146e-04\n",
      "Epoch: 4/10, Batch: 30/100\n",
      "Accumulated loss: 1.2181e-04\n",
      "Epoch: 4/10, Batch: 40/100\n",
      "Accumulated loss: 1.1820e-04\n",
      "Epoch: 4/10, Batch: 50/100\n",
      "Accumulated loss: 1.1603e-04\n",
      "Epoch: 4/10, Batch: 60/100\n",
      "Accumulated loss: 1.1622e-04\n",
      "Epoch: 4/10, Batch: 70/100\n",
      "Accumulated loss: 1.1560e-04\n",
      "Epoch: 4/10, Batch: 80/100\n",
      "Accumulated loss: 1.1489e-04\n",
      "Epoch: 4/10, Batch: 90/100\n",
      "Accumulated loss: 1.1317e-04\n",
      "Epoch: 4/10, Batch: 100/100\n",
      "Accumulated loss: 1.1093e-04\n",
      "Train loss: 1.1093e-04\n",
      "===========>\n",
      "Epoch: 5/10, Batch: 10/100\n",
      "Accumulated loss: 8.9172e-05\n",
      "Epoch: 5/10, Batch: 20/100\n",
      "Accumulated loss: 9.1627e-05\n",
      "Epoch: 5/10, Batch: 30/100\n",
      "Accumulated loss: 9.2605e-05\n",
      "Epoch: 5/10, Batch: 40/100\n",
      "Accumulated loss: 9.1855e-05\n",
      "Epoch: 5/10, Batch: 50/100\n",
      "Accumulated loss: 8.8798e-05\n",
      "Epoch: 5/10, Batch: 60/100\n",
      "Accumulated loss: 8.8932e-05\n",
      "Epoch: 5/10, Batch: 70/100\n",
      "Accumulated loss: 8.7220e-05\n",
      "Epoch: 5/10, Batch: 80/100\n",
      "Accumulated loss: 8.7294e-05\n",
      "Epoch: 5/10, Batch: 90/100\n",
      "Accumulated loss: 8.6554e-05\n",
      "Epoch: 5/10, Batch: 100/100\n",
      "Accumulated loss: 8.5274e-05\n",
      "Train loss: 8.5274e-05\n",
      "===========>\n",
      "Epoch: 6/10, Batch: 10/100\n",
      "Accumulated loss: 6.6683e-05\n",
      "Epoch: 6/10, Batch: 20/100\n",
      "Accumulated loss: 7.4366e-05\n",
      "Epoch: 6/10, Batch: 30/100\n",
      "Accumulated loss: 7.7173e-05\n",
      "Epoch: 6/10, Batch: 40/100\n",
      "Accumulated loss: 7.5825e-05\n",
      "Epoch: 6/10, Batch: 50/100\n",
      "Accumulated loss: 7.6693e-05\n",
      "Epoch: 6/10, Batch: 60/100\n",
      "Accumulated loss: 7.6151e-05\n",
      "Epoch: 6/10, Batch: 70/100\n",
      "Accumulated loss: 7.3665e-05\n",
      "Epoch: 6/10, Batch: 80/100\n",
      "Accumulated loss: 7.2781e-05\n",
      "Epoch: 6/10, Batch: 90/100\n",
      "Accumulated loss: 7.3404e-05\n",
      "Epoch: 6/10, Batch: 100/100\n",
      "Accumulated loss: 7.2208e-05\n",
      "Train loss: 7.2208e-05\n",
      "===========>\n",
      "Epoch: 7/10, Batch: 10/100\n",
      "Accumulated loss: 6.7953e-05\n",
      "Epoch: 7/10, Batch: 20/100\n",
      "Accumulated loss: 6.1726e-05\n",
      "Epoch: 7/10, Batch: 30/100\n",
      "Accumulated loss: 6.5737e-05\n",
      "Epoch: 7/10, Batch: 40/100\n",
      "Accumulated loss: 6.5123e-05\n",
      "Epoch: 7/10, Batch: 50/100\n",
      "Accumulated loss: 6.3848e-05\n",
      "Epoch: 7/10, Batch: 60/100\n",
      "Accumulated loss: 6.3332e-05\n",
      "Epoch: 7/10, Batch: 70/100\n",
      "Accumulated loss: 6.3558e-05\n",
      "Epoch: 7/10, Batch: 80/100\n",
      "Accumulated loss: 6.3100e-05\n",
      "Epoch: 7/10, Batch: 90/100\n",
      "Accumulated loss: 6.1963e-05\n",
      "Epoch: 7/10, Batch: 100/100\n",
      "Accumulated loss: 6.3107e-05\n",
      "Train loss: 6.3107e-05\n",
      "===========>\n",
      "Epoch: 8/10, Batch: 10/100\n",
      "Accumulated loss: 5.2404e-05\n",
      "Epoch: 8/10, Batch: 20/100\n",
      "Accumulated loss: 5.8177e-05\n",
      "Epoch: 8/10, Batch: 30/100\n",
      "Accumulated loss: 5.7961e-05\n",
      "Epoch: 8/10, Batch: 40/100\n",
      "Accumulated loss: 5.8323e-05\n",
      "Epoch: 8/10, Batch: 50/100\n",
      "Accumulated loss: 5.7793e-05\n",
      "Epoch: 8/10, Batch: 60/100\n",
      "Accumulated loss: 5.7171e-05\n",
      "Epoch: 8/10, Batch: 70/100\n",
      "Accumulated loss: 5.5331e-05\n",
      "Epoch: 8/10, Batch: 80/100\n",
      "Accumulated loss: 5.6199e-05\n",
      "Epoch: 8/10, Batch: 90/100\n",
      "Accumulated loss: 5.7222e-05\n",
      "Epoch: 8/10, Batch: 100/100\n",
      "Accumulated loss: 5.6731e-05\n",
      "Train loss: 5.6731e-05\n",
      "===========>\n",
      "Epoch: 9/10, Batch: 10/100\n",
      "Accumulated loss: 5.1261e-05\n",
      "Epoch: 9/10, Batch: 20/100\n",
      "Accumulated loss: 5.2161e-05\n",
      "Epoch: 9/10, Batch: 30/100\n",
      "Accumulated loss: 5.3252e-05\n",
      "Epoch: 9/10, Batch: 40/100\n",
      "Accumulated loss: 5.4593e-05\n",
      "Epoch: 9/10, Batch: 50/100\n",
      "Accumulated loss: 5.4263e-05\n",
      "Epoch: 9/10, Batch: 60/100\n",
      "Accumulated loss: 5.4213e-05\n",
      "Epoch: 9/10, Batch: 70/100\n",
      "Accumulated loss: 5.3131e-05\n",
      "Epoch: 9/10, Batch: 80/100\n",
      "Accumulated loss: 5.2930e-05\n",
      "Epoch: 9/10, Batch: 90/100\n",
      "Accumulated loss: 5.2362e-05\n",
      "Epoch: 9/10, Batch: 100/100\n",
      "Accumulated loss: 5.2041e-05\n",
      "Train loss: 5.2041e-05\n",
      "===========>\n",
      "Epoch: 10/10, Batch: 10/100\n",
      "Accumulated loss: 4.8789e-05\n",
      "Epoch: 10/10, Batch: 20/100\n",
      "Accumulated loss: 4.5408e-05\n",
      "Epoch: 10/10, Batch: 30/100\n",
      "Accumulated loss: 4.5428e-05\n",
      "Epoch: 10/10, Batch: 40/100\n",
      "Accumulated loss: 4.6124e-05\n",
      "Epoch: 10/10, Batch: 50/100\n",
      "Accumulated loss: 4.7745e-05\n",
      "Epoch: 10/10, Batch: 60/100\n",
      "Accumulated loss: 4.7014e-05\n",
      "Epoch: 10/10, Batch: 70/100\n",
      "Accumulated loss: 4.7050e-05\n",
      "Epoch: 10/10, Batch: 80/100\n",
      "Accumulated loss: 4.7909e-05\n",
      "Epoch: 10/10, Batch: 90/100\n",
      "Accumulated loss: 4.7050e-05\n",
      "Epoch: 10/10, Batch: 100/100\n",
      "Accumulated loss: 4.7315e-05\n",
      "Train loss: 4.7315e-05\n"
     ]
    }
   ],
   "source": [
    "train_num_batch = int(np.ceil(Config.train_num_example / Config.train_batch_size))\n",
    "train_batch_interval = Config.train_num_example // Config.train_batch_size // 10\n",
    "train_loss_hist = []\n",
    "\n",
    "for epoch in range(Config.num_epoch):\n",
    "    print('===========>')\n",
    "    train_running_loss = 0\n",
    "    for batch_index, (train_seq1, train_seq2, train_target) in enumerate(training_loader):\n",
    "        if CUDA_FLAG:\n",
    "            train_seq1 = train_seq1.cuda()\n",
    "            train_seq2 = train_seq2.cuda()\n",
    "            train_target = train_target.cuda()\n",
    "        train_seq1 = Variable(train_seq1)\n",
    "        train_seq2 = Variable(train_seq2)\n",
    "        train_target = Variable(train_target).float()\n",
    "        train_output1, train_output2 = net(train_seq1, train_seq2)\n",
    "        train_loss_contrastive = criterion(train_output1, train_output2, train_target)\n",
    "        train_running_loss += train_loss_contrastive.data[0]\n",
    "        \n",
    "        if batch_index % train_batch_interval == train_batch_interval - 1:\n",
    "            print('Epoch: {:d}/{:d}, Batch: {:d}/{:d}\\n'\n",
    "                  'Accumulated loss: {:.4e}'.format(\n",
    "                  epoch + 1, Config.num_epoch, \n",
    "                  batch_index + 1, train_num_batch, \n",
    "                  train_running_loss / (batch_index + 1)))\n",
    "            \n",
    "        optimizer.zero_grad()\n",
    "        train_loss_contrastive.backward()\n",
    "        optimizer.step() \n",
    "    train_loss = train_running_loss / train_num_batch\n",
    "    train_loss_hist.append(train_loss)\n",
    "    print('Train loss: {:.4e}'.format(train_loss))"
   ]
  },
  {
   "cell_type": "code",
   "execution_count": 9,
   "metadata": {
    "ExecuteTime": {
     "end_time": "2017-12-28T00:33:54.992612Z",
     "start_time": "2017-12-28T00:33:54.829720Z"
    },
    "collapsed": false
   },
   "outputs": [
    {
     "data": {
      "image/png": "[encoded data removed]",
      "text/plain": [
       "<matplotlib.figure.Figure at 0x10fa09240>"
      ]
     },
     "metadata": {},
     "output_type": "display_data"
    }
   ],
   "source": [
    "def plot_loss():\n",
    "    plt.figure(figsize=(8, 6))\n",
    "    plt.plot(train_loss_hist[1:], 'b')\n",
    "plot_loss()"
   ]
  },
  {
   "cell_type": "code",
   "execution_count": 10,
   "metadata": {
    "ExecuteTime": {
     "end_time": "2017-12-28T00:33:55.071137Z",
     "start_time": "2017-12-28T00:33:54.997359Z"
    },
    "collapsed": true
   },
   "outputs": [],
   "source": [
    "def jaccard_dist(embedding1, embedding2):\n",
    "    return 1 - np.sum(np.minimum(embedding1, embedding2)) / np.sum(np.maximum(embedding1, embedding2)) \n",
    "    \n",
    "def pair_dist(fp, N, embedding_fp, dist_fp):\n",
    "    seq = torch.zeros((N, 4, SEQ_LEN))\n",
    "    cnt = 0\n",
    "    seq_ids = []\n",
    "    with open(fp) as f:\n",
    "        while True:\n",
    "            next_n = list(islice(f, 2))\n",
    "            if not next_n:\n",
    "                break\n",
    "            seq_id = next_n[0].strip()[1:]\n",
    "            read = next_n[1].strip()\n",
    "            seq_ids.append(seq_id)\n",
    "            for i, c in enumerate(read):\n",
    "                seq[cnt, atcg_map.get(c, 0), i] = 1.0\n",
    "            cnt += 1\n",
    "    embeddings = net.forward_one_side(Variable(seq)).data.numpy()\n",
    "    embeddings.tofile(embedding_fp, sep=',', format='%.4e')\n",
    "    with open(dist_fp, 'w') as fo:\n",
    "        for i in range(N):\n",
    "            for j in range(N):\n",
    "                if i < j:\n",
    "                    fo.write('{}-{}\\t{:.4f}\\n'.format(\n",
    "                        seq_ids[i], seq_ids[j],\n",
    "                        jaccard_dist(embeddings[i],\n",
    "                                     embeddings[j])))"
   ]
  },
  {
   "cell_type": "code",
   "execution_count": 11,
   "metadata": {
    "ExecuteTime": {
     "end_time": "2017-12-28T00:33:55.109974Z",
     "start_time": "2017-12-28T00:33:55.072959Z"
    },
    "collapsed": true
   },
   "outputs": [],
   "source": [
    "def my_plot(align_dist_df, x_dist_df, save_fp):\n",
    "    fig, ax = plt.subplots(figsize=(10,10))\n",
    "    ax.tick_params(axis='both', which='major', labelsize=15)\n",
    "    hb = ax.hexbin(align_dist_df[1], x_dist_df[1], \n",
    "                   gridsize=200, bins='log', cmap='Blues', extent=(0, 1, 0, 1),\n",
    "                   vmin=0, vmax=4)\n",
    "    ax.plot(np.linspace(0, 1, 100), np.linspace(0, 1, 100), 'r')\n",
    "    ax.set_xlabel('alignment distance', fontsize=20)\n",
    "    ax.set_ylabel('SENSE', fontsize=20)\n",
    "    \n",
    "    cbar_ax = fig.add_axes([0.95, 0.1, 0.05, 0.8])\n",
    "    cbar_ax.tick_params(axis='both', which='major', labelsize=15)\n",
    "    cbar = fig.colorbar(hb, cax=cbar_ax)\n",
    "    cbar.set_label('log10(count + 1)', fontsize=20)\n",
    "    fig.savefig(save_fp, bbox_inches='tight')    "
   ]
  },
  {
   "cell_type": "code",
   "execution_count": 12,
   "metadata": {
    "ExecuteTime": {
     "end_time": "2017-12-28T00:39:51.475677Z",
     "start_time": "2017-12-28T00:33:55.111735Z"
    },
    "collapsed": false,
    "scrolled": false
   },
   "outputs": [
    {
     "data": {
      "image/png": "[encoded data removed]",
      "text/plain": [
       "<matplotlib.figure.Figure at 0x105176828>"
      ]
     },
     "metadata": {},
     "output_type": "display_data"
    }
   ],
   "source": [
    "# evaluation\n",
    "pair_dist('./demo/eval.fa', NUM_TESTING_N, './demo/embeddings.txt', './demo/embeddings_dist.txt')\n",
    "nw_df = pd.read_csv('./demo/eval_dist.txt', sep='\\t', header=None)\n",
    "my_df = pd.read_csv('./demo/embeddings_dist.txt', sep='\\t', header=None)\n",
    "my_plot(nw_df, my_df, save_fp='./demo/demo.png')"
   ]
  },
  {
   "cell_type": "code",
   "execution_count": null,
   "metadata": {
    "collapsed": true
   },
   "outputs": [],
   "source": []
  }
 ],
 "metadata": {
  "kernelspec": {
   "display_name": "Python 3",
   "language": "python",
   "name": "python3"
  },
  "language_info": {
   "codemirror_mode": {
    "name": "ipython",
    "version": 3
   },
   "file_extension": ".py",
   "mimetype": "text/x-python",
   "name": "python",
   "nbconvert_exporter": "python",
   "pygments_lexer": "ipython3",
   "version": "3.6.0"
  }
 },
 "nbformat": 4,
 "nbformat_minor": 2
}
