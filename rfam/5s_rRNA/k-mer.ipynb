{
 "cells": [
  {
   "cell_type": "code",
   "execution_count": 1,
   "metadata": {},
   "outputs": [],
   "source": [
    "%matplotlib inline\n",
    "from torch.utils.data import DataLoader,Dataset\n",
    "import matplotlib.pyplot as plt\n",
    "import pandas as pd\n",
    "import numpy as np\n",
    "import os\n",
    "import time\n",
    "import random\n",
    "import torch\n",
    "from torch.autograd import Variable   \n",
    "import torch.nn as nn\n",
    "from torch import optim\n",
    "import torch.nn.functional as F\n",
    "from itertools import islice\n",
    "from torch.utils.data import DataLoader,Dataset\n",
    "from functools import partial\n",
    "from itertools import product"
   ]
  },
  {
   "cell_type": "code",
   "execution_count": 35,
   "metadata": {},
   "outputs": [],
   "source": [
    "# k-merの一覧を作る\n",
    "nt=['A', 'T', 'G', 'C']\n",
    "k = 5\n",
    "kmer_list=[''.join(i) for i in product(nt, repeat=k)] # k=3\n",
    "\n",
    "# k-mer出現頻度を計算するための関数\n",
    "def bin_slide(string, bin):\n",
    "    l=[]\n",
    "    for i in range(0, len(string)-bin+1):\n",
    "        l.append(string[i:i+bin])\n",
    "    return l\n",
    "\n",
    "def calculate_ker_freq(string, bin=k):\n",
    "    seq=string.upper()\n",
    "    seq_kmers=bin_slide(seq, bin)\n",
    "    kmer_freq=[]\n",
    "    for k in kmer_list:\n",
    "        kmer_freq.append(seq_kmers.count(k)/len(seq_kmers))\n",
    "    return np.array(kmer_freq)\n",
    "\n",
    "def jaccard_dist(embedding1, embedding2):\n",
    "    return 1 - np.sum(np.minimum(embedding1, embedding2)) / np.sum(np.maximum(embedding1, embedding2)) "
   ]
  },
  {
   "cell_type": "code",
   "execution_count": 36,
   "metadata": {},
   "outputs": [
    {
     "name": "stdout",
     "output_type": "stream",
     "text": [
      "[0.        0.        0.0021692 ... 0.        0.0021692 0.       ]\n",
      "[0. 0. 0. ... 0. 0. 0.]\n"
     ]
    },
    {
     "data": {
      "text/plain": [
       "0.6238805970149253"
      ]
     },
     "execution_count": 36,
     "metadata": {},
     "output_type": "execute_result"
    }
   ],
   "source": [
    "tmp = calculate_ker_freq(\"CCTACGGGAGGCAGCAGTGGGGAATCTTCCGCAATGGACGAAAGTCTGACGGAGCAACGCCGCGTGAGTGATGACGGCCTTCGGGTTGTAAAGCTCTGTTAATCGGGACGAAAGGCCTTCTTGCGAATAGTTAGAAGGATTGACGGTACCGGAATAGAAAGCCACGGCTAACTACGTGCCAGCAGCCGCGGTAATACGTAGGTGGCAAGCGTTGTCCGGAATTATTGGGCGTAAAGCGCGCGCAGGCGGATCAGTCAGTCTGTCTTAAAAGTTCGGGGCTTAACCCCGTGATGGGATGGAAACTGCTGATCTAGAGTATCGGAGAGGAAAGTGGAATTCCTAGTGTAGCGGTGAAATGCGTAGATATTAGGAAGAACACCAGTGGCGAAGGCGACTTTCTGGACGAAAACTGACGCTGAGGCGCGAAAGCCAGGGGAGCGAACGGGATTAGATACCCCAGTAGTC\")\n",
    "tmp_2 = calculate_ker_freq(\"CCTACGGGAGGCTGCAGTAGGGAATCTTCGGCAATGGGGGCAACCCTGACCGAGCAACGCCGCGTGAGTGAAGAAGGTTTTCGGATCGTAAAGCTCTGTTGTAAGAGAAGAACGAGTGTGAGAGTGGAAAGTTCACACTGTGACGGTAACTTACCAGAAAGGGACGGCTAACTACGTGCCAGCAGCCGCGGTAATACGTAGGTCCCGAGCGTTATCCGGATTTATTGGGCGTAAAGCGAGCGCAGGCGGTTAGATAAGTCTGAAGTTAAAGGCTGTGGCTTAACCATAGTACGCTTTGGAAACTGTTTAACTTGAGTGCAGAAGGGGAGAGTGGAATTCCATGTGTAGCGGTGAAATGCGTAGATATATGGAGGAACACCGGTGGCGAAAGCGGCTCTCTGGTCTGTAACTGACGCTGAGGCTCGAAAGCGTGGGGAGCAAACAGGATTAGATACCCTGGTAGTC\")\n",
    "print(tmp)\n",
    "print(tmp_2)\n",
    "jaccard_dist(tmp, tmp_2)"
   ]
  },
  {
   "cell_type": "code",
   "execution_count": 37,
   "metadata": {},
   "outputs": [],
   "source": [
    "eval_align = \"./eval_aligned.fa\"\n",
    "kmer_score = \"./kmer_score_5.txt\"\n",
    "\n",
    "N = 20*500\n",
    "\n",
    "def calc_kmer_score():\n",
    "        cnt = 0\n",
    "        with open(eval_align) as f:\n",
    "            with open(kmer_score, 'w') as fo:\n",
    "                while True:\n",
    "                    next_n = list(islice(f, 4))\n",
    "                    if not next_n:\n",
    "                        break\n",
    "                    if cnt >= N:\n",
    "                        break\n",
    "                    pair = next_n[0].strip()\n",
    "                    l1 = next_n[1].strip().replace(\"-\", \"\")\n",
    "                    l2 = next_n[2].strip().replace(\"-\", \"\")\n",
    "                    score = jaccard_dist(calculate_ker_freq(l1), calculate_ker_freq(l2))\n",
    "                    fo.write('{}\\t{:.4f}\\n'.format(pair, score)) \n",
    "                        "
   ]
  },
  {
   "cell_type": "code",
   "execution_count": 38,
   "metadata": {},
   "outputs": [],
   "source": [
    "calc_kmer_score()"
   ]
  },
  {
   "cell_type": "code",
   "execution_count": 12,
   "metadata": {},
   "outputs": [],
   "source": [
    "def my_plot(align_dist_df, x_dist_df, save_fp):\n",
    "    fig, ax = plt.subplots(figsize=(10,10))\n",
    "    ax.tick_params(axis='both', which='major', labelsize=15)\n",
    "    hb = ax.hexbin(align_dist_df[1], x_dist_df[1], \n",
    "                   gridsize=200, bins='log', cmap='Blues', extent=(0, 1, 0, 1))\n",
    "                #    vmin=0, vmax=4)\n",
    "    ax.plot(np.linspace(0, 1, 100), np.linspace(0, 1, 100), 'r')\n",
    "    ax.set_xlabel('alignment distance', fontsize=20)\n",
    "    ax.set_ylabel('k-mer(k=5)', fontsize=20)\n",
    "    \n",
    "    cbar_ax = fig.add_axes([0.95, 0.1, 0.05, 0.8])\n",
    "    cbar_ax.tick_params(axis='both', which='major', labelsize=15)\n",
    "    cbar = fig.colorbar(hb, cax=cbar_ax)\n",
    "    cbar.set_label('log10(count + 1)', fontsize=20)\n",
    "    fig.savefig(save_fp, bbox_inches='tight')    "
   ]
  },
  {
   "cell_type": "code",
   "execution_count": 2,
   "metadata": {},
   "outputs": [],
   "source": [
    "# evaluation\n",
    "NUM_EVAL_N = 500 # number of eval pairs is N*(N-1)/2\n",
    "nw_df = pd.read_csv('./eval_dist.txt', sep='\\t', header=None)\n",
    "my_df = pd.read_csv('./kmer_score_5.txt', sep='\\t', header=None)\n",
    "# my_plot(nw_df, my_df, save_fp='./kmer_5.png')"
   ]
  },
  {
   "cell_type": "code",
   "execution_count": 40,
   "metadata": {},
   "outputs": [
    {
     "data": {
      "text/plain": [
       "0.22277042734348698"
      ]
     },
     "execution_count": 40,
     "metadata": {},
     "output_type": "execute_result"
    }
   ],
   "source": [
    "df = pd.concat([nw_df, my_df[1]], axis=1)\n",
    "df.columns = [\"pair\", \"nw\", \"embedding\"]\n",
    "df[\"MSE\"] = (df[\"nw\"] - df[\"embedding\"])**2\n",
    "df[\"MSE\"].mean()"
   ]
  },
  {
   "cell_type": "code",
   "execution_count": 41,
   "metadata": {},
   "outputs": [
    {
     "data": {
      "text/html": [
       "<div>\n",
       "<style scoped>\n",
       "    .dataframe tbody tr th:only-of-type {\n",
       "        vertical-align: middle;\n",
       "    }\n",
       "\n",
       "    .dataframe tbody tr th {\n",
       "        vertical-align: top;\n",
       "    }\n",
       "\n",
       "    .dataframe thead th {\n",
       "        text-align: right;\n",
       "    }\n",
       "</style>\n",
       "<table border=\"1\" class=\"dataframe\">\n",
       "  <thead>\n",
       "    <tr style=\"text-align: right;\">\n",
       "      <th></th>\n",
       "      <th>nw</th>\n",
       "      <th>embedding</th>\n",
       "      <th>MSE</th>\n",
       "    </tr>\n",
       "  </thead>\n",
       "  <tbody>\n",
       "    <tr>\n",
       "      <th>nw</th>\n",
       "      <td>1.000000</td>\n",
       "      <td>0.732078</td>\n",
       "      <td>-0.411257</td>\n",
       "    </tr>\n",
       "    <tr>\n",
       "      <th>embedding</th>\n",
       "      <td>0.732078</td>\n",
       "      <td>1.000000</td>\n",
       "      <td>0.312429</td>\n",
       "    </tr>\n",
       "    <tr>\n",
       "      <th>MSE</th>\n",
       "      <td>-0.411257</td>\n",
       "      <td>0.312429</td>\n",
       "      <td>1.000000</td>\n",
       "    </tr>\n",
       "  </tbody>\n",
       "</table>\n",
       "</div>"
      ],
      "text/plain": [
       "                 nw  embedding       MSE\n",
       "nw         1.000000   0.732078 -0.411257\n",
       "embedding  0.732078   1.000000  0.312429\n",
       "MSE       -0.411257   0.312429  1.000000"
      ]
     },
     "execution_count": 41,
     "metadata": {},
     "output_type": "execute_result"
    }
   ],
   "source": [
    "df.corr()"
   ]
  },
  {
   "cell_type": "code",
   "execution_count": 21,
   "metadata": {},
   "outputs": [],
   "source": [
    "alignment_dist = []\n",
    "with open('./eval_dist.txt') as f:\n",
    "    while True:\n",
    "        next_n = list(islice(f, 1))\n",
    "        if not next_n:\n",
    "            break\n",
    "        alignment_dist.append(float(next_n[0].split(\"\\t\")[-1].strip()))"
   ]
  },
  {
   "cell_type": "code",
   "execution_count": 29,
   "metadata": {},
   "outputs": [
    {
     "data": {
      "image/png": "[encoded data removed]",
      "text/plain": [
       "<Figure size 1440x720 with 1 Axes>"
      ]
     },
     "metadata": {
      "needs_background": "light"
     },
     "output_type": "display_data"
    }
   ],
   "source": [
    "plt.figure(figsize=(20, 10))\n",
    "plt.xlim(0, 1)\n",
    "plt.grid(True)\n",
    "plt.hist(alignment_dist, rwidth=100, bins=20)\n",
    "plt.savefig(\"./hist.png\", bbox_inches='tight')"
   ]
  },
  {
   "cell_type": "code",
   "execution_count": null,
   "metadata": {},
   "outputs": [],
   "source": []
  }
 ],
 "metadata": {
  "interpreter": {
   "hash": "19ec22020ce123ed03e327808775d6b946dedeb33c618c0839f4e0761026838b"
  },
  "kernelspec": {
   "display_name": "Python 3.8.12 ('SENSE')",
   "language": "python",
   "name": "python3"
  },
  "language_info": {
   "codemirror_mode": {
    "name": "ipython",
    "version": 3
   },
   "file_extension": ".py",
   "mimetype": "text/x-python",
   "name": "python",
   "nbconvert_exporter": "python",
   "pygments_lexer": "ipython3",
   "version": "3.8.12"
  },
  "orig_nbformat": 4
 },
 "nbformat": 4,
 "nbformat_minor": 2
}
